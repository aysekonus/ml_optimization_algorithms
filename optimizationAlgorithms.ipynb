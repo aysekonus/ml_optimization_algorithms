{
  "nbformat": 4,
  "nbformat_minor": 0,
  "metadata": {
    "colab": {
      "name": "17052017_AyşeKonuş",
      "provenance": [],
      "collapsed_sections": [],
      "include_colab_link": true
    },
    "kernelspec": {
      "name": "python3",
      "display_name": "Python 3"
    },
    "language_info": {
      "name": "python"
    }
  },
  "cells": [
    {
      "cell_type": "markdown",
      "metadata": {
        "id": "view-in-github",
        "colab_type": "text"
      },
      "source": [
        "<a href=\"https://colab.research.google.com/github/aysekonus/ml_optimization_algorithms/blob/main/optimizationAlgorithms.ipynb\" target=\"_parent\"><img src=\"https://colab.research.google.com/assets/colab-badge.svg\" alt=\"Open In Colab\"/></a>"
      ]
    },
    {
      "cell_type": "code",
      "execution_count": null,
      "metadata": {
        "id": "pEZFN7g_Zo5X"
      },
      "outputs": [],
      "source": [
        "import numpy as np\n",
        "from sklearn.datasets import fetch_openml\n",
        "import matplotlib.pyplot as plt\n",
        "import time"
      ]
    },
    {
      "cell_type": "code",
      "source": [
        "# Helper function\n",
        "def show_images(image, num_row=2, num_col=5):\n",
        "    # plot images\n",
        "    image_size = int(np.sqrt(image.shape[-1]))\n",
        "    image = np.reshape(image, (image.shape[0], image_size, image_size))\n",
        "    fig, axes = plt.subplots(num_row, num_col, figsize=(1.5*num_col,2*num_row))\n",
        "    for i in range(num_row*num_col):\n",
        "        ax = axes[i//num_col, i%num_col]\n",
        "        ax.imshow(image[i], cmap='gray', vmin=0, vmax=1)\n",
        "        ax.axis('off')\n",
        "    plt.tight_layout()\n",
        "    plt.show()\n",
        "    \n",
        "def one_hot(x, k, dtype=np.float32):\n",
        "    \"\"\"Create a one-hot encoding of x of size k.\"\"\"\n",
        "    return np.array(x[:, None] == np.arange(k), dtype)"
      ],
      "metadata": {
        "id": "YVYfWQhyaObo"
      },
      "execution_count": null,
      "outputs": []
    },
    {
      "cell_type": "markdown",
      "source": [
        "**Dataset preparation**"
      ],
      "metadata": {
        "id": "4okHLpN3aekG"
      }
    },
    {
      "cell_type": "code",
      "source": [
        "#Loading\n",
        "from keras.datasets import mnist\n",
        "(x_train, y_train), (x_test, y_test) = mnist.load_data()\n",
        "\n",
        "# Normalize data \n",
        "\n",
        "x_train= x_train / 255.0\n",
        "x_test = x_test / 255.0\n",
        " \n",
        "# One-hot encode labels\n",
        "num_labels = 10\n",
        "y_train=one_hot(y_train.astype('int32'),num_labels)\n",
        "y_test=one_hot(y_test.astype('int32'),num_labels)\n",
        "\n",
        "\n",
        "x_train = x_train.reshape(60000,28*28)\n",
        "x_test = x_test.reshape(10000,28*28)\n"
      ],
      "metadata": {
        "colab": {
          "base_uri": "https://localhost:8080/"
        },
        "id": "ssFUk8vd-Nu0",
        "outputId": "73615f5d-927f-405b-daf4-077a190c1c38"
      },
      "execution_count": null,
      "outputs": [
        {
          "output_type": "stream",
          "name": "stdout",
          "text": [
            "Downloading data from https://storage.googleapis.com/tensorflow/tf-keras-datasets/mnist.npz\n",
            "11493376/11490434 [==============================] - 0s 0us/step\n",
            "11501568/11490434 [==============================] - 0s 0us/step\n"
          ]
        }
      ]
    },
    {
      "cell_type": "code",
      "source": [
        "print(\"Training data: {} {}\".format(x_train.shape, y_train.shape))\n",
        "print(\"Test data: {} {}\".format(x_test.shape, y_test.shape))\n",
        "show_images(x_train)"
      ],
      "metadata": {
        "colab": {
          "base_uri": "https://localhost:8080/",
          "height": 288
        },
        "id": "-XZufYXl8oCM",
        "outputId": "e96bd671-110f-475a-a746-8cdc1215aa67"
      },
      "execution_count": null,
      "outputs": [
        {
          "output_type": "stream",
          "name": "stdout",
          "text": [
            "Training data: (60000, 784) (60000, 10)\n",
            "Test data: (10000, 784) (10000, 10)\n"
          ]
        },
        {
          "output_type": "display_data",
          "data": {
            "text/plain": [
              "<Figure size 540x288 with 10 Axes>"
            ],
            "image/png": "[encoded data removed]"
          },
          "metadata": {
            "needs_background": "light"
          }
        }
      ]
    },
    {
      "cell_type": "markdown",
      "source": [
        "**Initialization**"
      ],
      "metadata": {
        "id": "J26LnPXG-2kJ"
      }
    },
    {
      "cell_type": "code",
      "source": [
        "class DeepNeuralNetwork():\n",
        "    def __init__(self, sizes, activation='sigmoid'):\n",
        "        self.sizes = sizes\n",
        "        \n",
        "        # Choose activation function\n",
        "        if activation == 'relu':\n",
        "            self.activation = self.relu\n",
        "        elif activation == 'sigmoid':\n",
        "            self.activation = self.sigmoid\n",
        "        else:\n",
        "            raise ValueError(\"Activation function is currently not support, please use 'relu' or 'sigmoid' instead.\")\n",
        "        \n",
        "        # Save all weights\n",
        "        self.params = self.initialize()\n",
        "        # Save all intermediate values, i.e. activations\n",
        "        self.cache = {}\n",
        "        \n",
        "    def relu(self, x, derivative=False):\n",
        "        if derivative:\n",
        "            x = np.where(x < 0, 0, x)\n",
        "            x = np.where(x >= 0, 1, x)\n",
        "            return x\n",
        "        return np.maximum(0, x)\n",
        "\n",
        "    def sigmoid(self, x, derivative=False):\n",
        "        if derivative:\n",
        "            return (np.exp(-x))/((np.exp(-x)+1)**2)\n",
        "        return 1/(1 + np.exp(-x))\n",
        "\n",
        "    def softmax(self, x):\n",
        "        # Numerically stable with large exponentials\n",
        "        exps = np.exp(x - x.max())\n",
        "        return exps / np.sum(exps, axis=0)\n",
        "\n",
        "    def initialize(self):\n",
        "        # number of nodes in each layer\n",
        "        input_layer=self.sizes[0]\n",
        "        hidden_layer=self.sizes[1]\n",
        "        output_layer=self.sizes[2]\n",
        "        \n",
        "        params = {\n",
        "            \"W1\": np.random.randn(hidden_layer, input_layer) * np.sqrt(1./input_layer),\n",
        "            \"b1\": np.zeros((hidden_layer, 1)) * np.sqrt(1./input_layer),\n",
        "            \"W2\": np.random.randn(output_layer, hidden_layer) * np.sqrt(1./hidden_layer),\n",
        "            \"b2\": np.zeros((output_layer, 1)) * np.sqrt(1./hidden_layer)\n",
        "        }\n",
        "        return params\n",
        "    \n",
        "    def initialize_momemtum_optimizer(self):\n",
        "        momemtum_opt = {\n",
        "            \"W1\": np.zeros(self.params[\"W1\"].shape),\n",
        "            \"b1\": np.zeros(self.params[\"b1\"].shape),\n",
        "            \"W2\": np.zeros(self.params[\"W2\"].shape),\n",
        "            \"b2\": np.zeros(self.params[\"b2\"].shape),\n",
        "        }\n",
        "        return momemtum_opt\n",
        "\n",
        "    def initialize_rmsprop_optimizer(self):\n",
        "        rmsprop_opt = {\n",
        "            \"W1\": np.zeros(self.params[\"W1\"].shape),\n",
        "            \"b1\": np.zeros(self.params[\"b1\"].shape),\n",
        "            \"W2\": np.zeros(self.params[\"W2\"].shape),\n",
        "            \"b2\": np.zeros(self.params[\"b2\"].shape),\n",
        "        }\n",
        "        return rmsprop_opt   \n",
        "\n",
        "    def initialize_adam_optimizer(self):\n",
        "        adam_opt_m = {\n",
        "            \"W1\": np.zeros(self.params[\"W1\"].shape),\n",
        "            \"b1\": np.zeros(self.params[\"b1\"].shape),\n",
        "            \"W2\": np.zeros(self.params[\"W2\"].shape),\n",
        "            \"b2\": np.zeros(self.params[\"b2\"].shape),\n",
        "        }\n",
        "\n",
        "        adam_opt_v = {\n",
        "            \"W1\": np.zeros(self.params[\"W1\"].shape),\n",
        "            \"b1\": np.zeros(self.params[\"b1\"].shape),\n",
        "            \"W2\": np.zeros(self.params[\"W2\"].shape),\n",
        "            \"b2\": np.zeros(self.params[\"b2\"].shape),\n",
        "        }        \n",
        "\n",
        "        return adam_opt_m, adam_opt_v\n",
        "\n",
        "    def feed_forward(self, x):\n",
        "        '''\n",
        "            y = σ(wX + b)\n",
        "        '''\n",
        "        self.cache[\"X\"] = x\n",
        "        self.cache[\"Z1\"] = np.matmul(self.params[\"W1\"], self.cache[\"X\"].T) + self.params[\"b1\"]\n",
        "        self.cache[\"A1\"] = self.activation(self.cache[\"Z1\"])\n",
        "        self.cache[\"Z2\"] = np.matmul(self.params[\"W2\"], self.cache[\"A1\"]) + self.params[\"b2\"]\n",
        "        self.cache[\"A2\"] = self.softmax(self.cache[\"Z2\"])\n",
        "        return self.cache[\"A2\"]\n",
        "    \n",
        "    def back_propagate(self, y, output):\n",
        "\n",
        "        current_batch_size = y.shape[0]\n",
        "        \n",
        "        dZ2 = output - y.T\n",
        "        dW2 = (1./current_batch_size) * np.matmul(dZ2, self.cache[\"A1\"].T)\n",
        "        db2 = (1./current_batch_size) * np.sum(dZ2, axis=1, keepdims=True)\n",
        "\n",
        "        dA1 = np.matmul(self.params[\"W2\"].T, dZ2)\n",
        "        dZ1 = dA1 * self.activation(self.cache[\"Z1\"], derivative=True)\n",
        "        dW1 = (1./current_batch_size) * np.matmul(dZ1, self.cache[\"X\"])\n",
        "        db1 = (1./current_batch_size) * np.sum(dZ1, axis=1, keepdims=True)\n",
        "\n",
        "        self.grads = {\"W1\": dW1, \"b1\": db1, \"W2\": dW2, \"b2\": db2}\n",
        "        return self.grads\n",
        "    \n",
        "    def cross_entropy_loss(self, y, output):\n",
        "        '''\n",
        "            L(y, ŷ) = −∑ylog(ŷ).\n",
        "        '''\n",
        "        l_sum = np.sum(np.multiply(y.T, np.log(output)))\n",
        "        m = y.shape[0]\n",
        "        l = -(1./m) * l_sum\n",
        "        return l\n",
        "                \n",
        "    def optimize(self, l_rate=0.1, beta=0.9, beta_2=0.999, epsilon=1e-6):\n",
        "        '''\n",
        "            Stochatic Gradient Descent (SGD):\n",
        "              θ^(t+1) <- θ^t - η∇L(y, ŷ)\n",
        "            \n",
        "            Momentum:\n",
        "              v^(t+1) <- βv^t + (1-β)∇L(y, ŷ)^t\n",
        "              θ^(t+1) <- θ^t - ηv^(t+1)\n",
        "\n",
        "            RmsProp:\n",
        "              v(i+1) = β*v(i) + (1-β) * (∇L(y, ŷ))^2\n",
        "              θ(i+1) = θ - (η/sqrt(v(i+1) + ϵ)) * ∇L(y, ŷ)\n",
        "\n",
        "            Adam:\n",
        "              m(i+1) = β*m(i) + (1-β) * ∇L(y, ŷ)\n",
        "              v(i+1) = β2*v(i) + (1-β2) * (∇L(y, ŷ))^2 \n",
        "\n",
        "              m_correct(i+1) = m(i+1) / (1 - β^(i+1))\n",
        "              v_correct(i+1) = v(i+1) / (1 - β2^(i+1))\n",
        "\n",
        "              θ(i+1) = θ(i) - (η/(sqrt(v_correct(i+1)) + ϵ) * m_correct(i+1))\n",
        "        '''\n",
        "\n",
        "        if self.optimizer == \"sgd\":\n",
        "            for key in self.params:\n",
        "                self.params[key] = self.params[key] - l_rate * self.grads[key]\n",
        "\n",
        "        elif self.optimizer == \"momentum\":\n",
        "            for key in self.params:\n",
        "                self.momemtum_opt[key] = (beta * self.momemtum_opt[key] + (1. - beta) * self.grads[key])\n",
        "                self.params[key] = self.params[key] - l_rate * self.momemtum_opt[key]\n",
        "\n",
        "        elif self.optimizer == \"rmsprop\":\n",
        "            for key in self.params:\n",
        "                self.rmsprop_opt[key] = (beta * self.rmsprop_opt[key]) + (1. - beta) * pow(self.grads[key], 2)\n",
        "                self.params[key] = self.params[key] - (l_rate / np.sqrt(self.rmsprop_opt[key] + epsilon)) * self.grads[key]\n",
        "\n",
        "        elif self.optimizer == \"adam\":\n",
        "\n",
        "            self.adam_opt_m_corrected = {}\n",
        "            self.adam_opt_v_corrected = {}\n",
        "            iter_count = 0  \n",
        "            epsilon = 1e-8\n",
        "\n",
        "            for key in self.params:\n",
        "                iter_count = int(key[1])\n",
        "                self.adam_opt_m[key] = (beta * self.adam_opt_m[key]) + (1. - beta) * self.grads[key]\n",
        "                self.adam_opt_v[key] = (beta_2 * self.adam_opt_v[key]) + ((1. - beta_2) * pow(self.grads[key], 2))\n",
        "\n",
        "                self.adam_opt_m_corrected[key] = self.adam_opt_m[key] / (1. - pow(beta, iter_count))\n",
        "                self.adam_opt_v_corrected[key] = self.adam_opt_v[key] / (1. - pow(beta_2, iter_count))\n",
        "\n",
        "                self.params[key] = self.params[key] - (l_rate / (np.sqrt(self.adam_opt_v_corrected[key]) + epsilon)) * self.adam_opt_m_corrected[key]\n",
        "        else:\n",
        "            raise ValueError(\"Optimizer is currently not support, please use 'sgd', 'momentum' or 'rmsprop' instead.\")\n",
        "\n",
        "    def accuracy(self, y, output):\n",
        "        return np.mean(np.argmax(y, axis=-1) == np.argmax(output.T, axis=-1))\n",
        "\n",
        "    def train(self, x_train, y_train, x_test, y_test, epochs=10, \n",
        "              batch_size=64, optimizer='momentum', l_rate=0.1, beta=.9, beta_2=0.999, epsilon=1e-6):\n",
        "        # Hyperparameters\n",
        "        self.epochs = epochs\n",
        "        self.batch_size = batch_size\n",
        "        num_batches = -(-x_train.shape[0] // self.batch_size)\n",
        "        \n",
        "        # Initialize optimizer\n",
        "        self.optimizer = optimizer\n",
        "        if self.optimizer == 'momentum':\n",
        "            self.momemtum_opt = self.initialize_momemtum_optimizer()\n",
        "        elif self.optimizer == 'rmsprop':\n",
        "            self.rmsprop_opt = self.initialize_rmsprop_optimizer()        \n",
        "        elif self.optimizer == 'adam':\n",
        "            self.adam_opt_m, self.adam_opt_v = self.initialize_adam_optimizer()\n",
        "\n",
        "        start_time = time.time()\n",
        "        template = \"Epoch {}: {:.2f}s, train acc={:.2f}, train loss={:.2f}, test acc={:.2f}, test loss={:.2f}\"\n",
        "        iter_count = 0\n",
        "        # Train\n",
        "        for i in range(self.epochs):\n",
        "            # Shuffle\n",
        "            permutation = np.random.permutation(x_train.shape[0])\n",
        "            x_train_shuffled = x_train[permutation]\n",
        "            y_train_shuffled = y_train[permutation]\n",
        "\n",
        "            for j in range(num_batches):\n",
        "                # Batch\n",
        "                begin = j * self.batch_size\n",
        "                end = min(begin + self.batch_size, x_train.shape[0]-1)\n",
        "                x = x_train_shuffled[begin:end]\n",
        "                y = y_train_shuffled[begin:end]\n",
        "                \n",
        "                # Forward\n",
        "                output = self.feed_forward(x)\n",
        "                # Backprop\n",
        "                grad = self.back_propagate(y, output)\n",
        "                # Optimize\n",
        "                self.optimize(l_rate=l_rate, beta=beta, beta_2 = beta_2, epsilon=epsilon)\n",
        "\n",
        "            # Evaluate performance\n",
        "            # Training data\n",
        "            output = self.feed_forward(x_train)\n",
        "            train_acc = self.accuracy(y_train, output)\n",
        "            train_loss = self.cross_entropy_loss(y_train, output)\n",
        "            # Test data\n",
        "            output = self.feed_forward(x_test)\n",
        "            test_acc = self.accuracy(y_test, output)\n",
        "            test_loss = self.cross_entropy_loss(y_test, output)\n",
        "            print(template.format(i+1, time.time()-start_time, train_acc, train_loss, test_acc, test_loss))"
      ],
      "metadata": {
        "id": "Dm6X3x1b-5iA"
      },
      "execution_count": null,
      "outputs": []
    },
    {
      "cell_type": "markdown",
      "source": [
        "## **1- Stokastik Gradient Descent Algoritması**\n",
        "\n",
        "> **Relu fonksiyonu'nun eğitim süresinin sigmoid'e nazaran daha kısa olduğu, yani relu'nun daha hızlı çalıştığı gözlemlenmiştir.**\n",
        "\n",
        "> **Ayrıca Relu aktivasyon fonksiyonu Sigmoid'e göre train ve test accuracy'leri kıyaslandığında daha başarılı bir eğitim gerçekleştirmiştir.**\n",
        "\n",
        "**`10.Epoch için sonuç tablosu:`**\n",
        "---\n",
        "\n",
        "![image.png](data:image/png;base64,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)\n",
        "\n",
        "\n"
      ],
      "metadata": {
        "id": "RUtxRJDZ-TQ4"
      }
    },
    {
      "cell_type": "code",
      "source": [
        "# Sigmoid + sgd\n",
        "dnn = DeepNeuralNetwork(sizes=[784, 64, 10], activation='sigmoid')\n",
        "dnn.train(x_train, y_train, x_test, y_test, batch_size=128, optimizer='sgd', l_rate=0.05)"
      ],
      "metadata": {
        "colab": {
          "base_uri": "https://localhost:8080/"
        },
        "id": "nMouQ_HCNO1j",
        "outputId": "16ad9ba7-95c9-412d-d23f-d3e30610bd5d"
      },
      "execution_count": null,
      "outputs": [
        {
          "output_type": "stream",
          "name": "stdout",
          "text": [
            "Epoch 1: 2.10s, train acc=0.82, train loss=0.96, test acc=0.82, test loss=0.94\n",
            "Epoch 2: 4.13s, train acc=0.86, train loss=0.60, test acc=0.87, test loss=0.58\n",
            "Epoch 3: 6.08s, train acc=0.88, train loss=0.48, test acc=0.89, test loss=0.46\n",
            "Epoch 4: 8.21s, train acc=0.89, train loss=0.42, test acc=0.90, test loss=0.40\n",
            "Epoch 5: 10.17s, train acc=0.90, train loss=0.38, test acc=0.90, test loss=0.37\n",
            "Epoch 6: 12.16s, train acc=0.90, train loss=0.36, test acc=0.91, test loss=0.34\n",
            "Epoch 7: 14.13s, train acc=0.91, train loss=0.34, test acc=0.91, test loss=0.33\n",
            "Epoch 8: 16.07s, train acc=0.91, train loss=0.32, test acc=0.92, test loss=0.31\n",
            "Epoch 9: 18.03s, train acc=0.91, train loss=0.31, test acc=0.92, test loss=0.30\n",
            "Epoch 10: 20.00s, train acc=0.91, train loss=0.30, test acc=0.92, test loss=0.29\n"
          ]
        }
      ]
    },
    {
      "cell_type": "code",
      "source": [
        "# ReLU + SGD\n",
        "dnn = DeepNeuralNetwork(sizes=[784, 64, 10], activation='relu')\n",
        "dnn.train(x_train, y_train, x_test, y_test, batch_size=128, optimizer='sgd', l_rate=0.05)"
      ],
      "metadata": {
        "colab": {
          "base_uri": "https://localhost:8080/"
        },
        "id": "aCETHGtwNFQW",
        "outputId": "ea9eddb6-4564-4ace-916a-0493031c6b14"
      },
      "execution_count": null,
      "outputs": [
        {
          "output_type": "stream",
          "name": "stdout",
          "text": [
            "Epoch 1: 1.49s, train acc=0.89, train loss=0.40, test acc=0.90, test loss=0.38\n",
            "Epoch 2: 2.99s, train acc=0.90, train loss=0.33, test acc=0.91, test loss=0.32\n",
            "Epoch 3: 4.46s, train acc=0.91, train loss=0.30, test acc=0.92, test loss=0.29\n",
            "Epoch 4: 5.93s, train acc=0.92, train loss=0.29, test acc=0.92, test loss=0.28\n",
            "Epoch 5: 7.40s, train acc=0.92, train loss=0.27, test acc=0.92, test loss=0.27\n",
            "Epoch 6: 8.90s, train acc=0.92, train loss=0.27, test acc=0.92, test loss=0.26\n",
            "Epoch 7: 10.34s, train acc=0.92, train loss=0.26, test acc=0.93, test loss=0.26\n",
            "Epoch 8: 11.83s, train acc=0.93, train loss=0.25, test acc=0.93, test loss=0.25\n",
            "Epoch 9: 13.29s, train acc=0.93, train loss=0.25, test acc=0.93, test loss=0.25\n",
            "Epoch 10: 14.76s, train acc=0.93, train loss=0.25, test acc=0.93, test loss=0.25\n"
          ]
        }
      ]
    },
    {
      "cell_type": "markdown",
      "source": [
        "## **2- Momentum Optimizasyon Algoritması**\n",
        "\n",
        "> **Relu fonksiyonu'nun eğitim süresinin sigmoid'e nazaran daha kısa olduğu, yani relu'nun daha hızlı çalıştığı gözlemlenmiştir.**\n",
        "\n",
        "> **Ayrıca Relu aktivasyon fonksiyonu Sigmoid'e göre train ve test accuracy'leri kıyaslandığında daha başarılı bir eğitim gerçekleştirmiştir.**\n",
        "\n",
        "**`10.Epoch için sonuç tablosu:`**\n",
        "---\n",
        "\n",
        "![image.png](data:image/png;base64,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)"
      ],
      "metadata": {
        "id": "acXliCMzBWc8"
      }
    },
    {
      "cell_type": "code",
      "source": [
        "# Sigmoid + Momentum\n",
        "dnn = DeepNeuralNetwork(sizes=[784, 64, 10], activation='sigmoid')\n",
        "dnn.train(x_train, y_train, x_test, y_test, batch_size=128, optimizer='momentum', l_rate=0.05, beta=0.9, epsilon=1e-6)"
      ],
      "metadata": {
        "colab": {
          "base_uri": "https://localhost:8080/"
        },
        "id": "3jy8TkU2i1al",
        "outputId": "c07d1f13-92a7-470b-db0e-45ab8658f8de"
      },
      "execution_count": null,
      "outputs": [
        {
          "output_type": "stream",
          "name": "stdout",
          "text": [
            "Epoch 1: 2.06s, train acc=0.81, train loss=1.01, test acc=0.82, test loss=0.99\n",
            "Epoch 2: 4.20s, train acc=0.86, train loss=0.61, test acc=0.87, test loss=0.59\n",
            "Epoch 3: 6.28s, train acc=0.88, train loss=0.48, test acc=0.89, test loss=0.46\n",
            "Epoch 4: 8.40s, train acc=0.89, train loss=0.42, test acc=0.90, test loss=0.40\n",
            "Epoch 5: 10.46s, train acc=0.90, train loss=0.38, test acc=0.90, test loss=0.37\n",
            "Epoch 6: 12.59s, train acc=0.90, train loss=0.36, test acc=0.91, test loss=0.34\n",
            "Epoch 7: 15.37s, train acc=0.91, train loss=0.34, test acc=0.91, test loss=0.33\n",
            "Epoch 8: 17.51s, train acc=0.91, train loss=0.32, test acc=0.91, test loss=0.31\n",
            "Epoch 9: 19.59s, train acc=0.91, train loss=0.31, test acc=0.92, test loss=0.30\n",
            "Epoch 10: 21.76s, train acc=0.91, train loss=0.30, test acc=0.92, test loss=0.29\n"
          ]
        }
      ]
    },
    {
      "cell_type": "code",
      "source": [
        "# Relu + Momentum\n",
        "dnn = DeepNeuralNetwork(sizes=[784, 64, 10], activation='relu')\n",
        "dnn.train(x_train, y_train, x_test, y_test, batch_size=128, optimizer='momentum', l_rate=0.05, beta=0.9, epsilon=1e-6)"
      ],
      "metadata": {
        "colab": {
          "base_uri": "https://localhost:8080/"
        },
        "id": "8fia62Tmi6H8",
        "outputId": "9d938840-b7a7-4714-848f-949c74d85cc2"
      },
      "execution_count": null,
      "outputs": [
        {
          "output_type": "stream",
          "name": "stdout",
          "text": [
            "Epoch 1: 1.70s, train acc=0.89, train loss=0.40, test acc=0.89, test loss=0.38\n",
            "Epoch 2: 3.38s, train acc=0.90, train loss=0.33, test acc=0.91, test loss=0.31\n",
            "Epoch 3: 5.01s, train acc=0.91, train loss=0.30, test acc=0.92, test loss=0.29\n",
            "Epoch 4: 6.69s, train acc=0.92, train loss=0.29, test acc=0.92, test loss=0.28\n",
            "Epoch 5: 8.34s, train acc=0.92, train loss=0.28, test acc=0.92, test loss=0.27\n",
            "Epoch 6: 9.99s, train acc=0.92, train loss=0.27, test acc=0.92, test loss=0.26\n",
            "Epoch 7: 11.65s, train acc=0.92, train loss=0.26, test acc=0.92, test loss=0.26\n",
            "Epoch 8: 13.35s, train acc=0.93, train loss=0.26, test acc=0.92, test loss=0.25\n",
            "Epoch 9: 14.96s, train acc=0.93, train loss=0.25, test acc=0.93, test loss=0.25\n",
            "Epoch 10: 16.65s, train acc=0.93, train loss=0.25, test acc=0.93, test loss=0.25\n"
          ]
        }
      ]
    },
    {
      "cell_type": "markdown",
      "source": [
        "## **3- RMSProp Optimizasyon Algoritması**\n",
        "\n",
        "> **Relu fonksiyonu'nun eğitim süresinin sigmoid'e nazaran daha kısa olduğu, yani relu'nun daha hızlı çalıştığı gözlemlenmiştir.**\n",
        "\n",
        "> **Ayrıca Sigmoid aktivasyon fonksiyonu relu'ya göre train ve test accuracy'leri kıyaslandığında learning rate = 0.001 ve 10 epoch'luk bir eğitim için daha başarılı bir eğitim gerçekleştirmiştir.**\n",
        "\n",
        "**`10.Epoch için sonuç tablosu:`**\n",
        "---\n",
        "\n",
        "![image.png](data:image/png;base64,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)"
      ],
      "metadata": {
        "id": "DHoDE2uNC2k7"
      }
    },
    {
      "cell_type": "code",
      "source": [
        "# Sigmoid + RmsProp\n",
        "dnn = DeepNeuralNetwork(sizes=[784, 64, 10], activation='sigmoid')\n",
        "dnn.train(x_train, y_train, x_test, y_test, batch_size=128, optimizer='rmsprop', l_rate=0.001, beta=0.9, epsilon=1e-6)"
      ],
      "metadata": {
        "colab": {
          "base_uri": "https://localhost:8080/"
        },
        "id": "QmxODihp8FN4",
        "outputId": "0c5f98c2-e7e8-48e3-a8f5-1397b07e5fea"
      },
      "execution_count": null,
      "outputs": [
        {
          "output_type": "stream",
          "name": "stdout",
          "text": [
            "Epoch 1: 2.30s, train acc=0.90, train loss=0.38, test acc=0.91, test loss=0.37\n",
            "Epoch 2: 4.62s, train acc=0.92, train loss=0.28, test acc=0.92, test loss=0.27\n",
            "Epoch 3: 6.89s, train acc=0.93, train loss=0.24, test acc=0.93, test loss=0.24\n",
            "Epoch 4: 9.19s, train acc=0.94, train loss=0.21, test acc=0.94, test loss=0.21\n",
            "Epoch 5: 11.48s, train acc=0.95, train loss=0.19, test acc=0.94, test loss=0.19\n",
            "Epoch 6: 13.76s, train acc=0.95, train loss=0.17, test acc=0.95, test loss=0.18\n",
            "Epoch 7: 16.04s, train acc=0.95, train loss=0.16, test acc=0.95, test loss=0.17\n",
            "Epoch 8: 18.32s, train acc=0.96, train loss=0.15, test acc=0.95, test loss=0.15\n",
            "Epoch 9: 20.62s, train acc=0.96, train loss=0.14, test acc=0.96, test loss=0.14\n",
            "Epoch 10: 22.89s, train acc=0.96, train loss=0.13, test acc=0.96, test loss=0.14\n"
          ]
        }
      ]
    },
    {
      "cell_type": "code",
      "source": [
        "# Relu + RmsProp\n",
        "dnn = DeepNeuralNetwork(sizes=[784, 64, 10], activation='relu')\n",
        "dnn.train(x_train, y_train, x_test, y_test, batch_size=128, optimizer='rmsprop', l_rate=0.001, beta=0.9, epsilon=1e-6)"
      ],
      "metadata": {
        "colab": {
          "base_uri": "https://localhost:8080/"
        },
        "id": "M9EmicUF8FHK",
        "outputId": "29924afd-88c7-419a-a323-6099c5e67a89"
      },
      "execution_count": null,
      "outputs": [
        {
          "output_type": "stream",
          "name": "stdout",
          "text": [
            "Epoch 1: 1.85s, train acc=0.91, train loss=0.30, test acc=0.92, test loss=0.29\n",
            "Epoch 2: 3.69s, train acc=0.92, train loss=0.26, test acc=0.92, test loss=0.26\n",
            "Epoch 3: 5.47s, train acc=0.93, train loss=0.25, test acc=0.93, test loss=0.25\n",
            "Epoch 4: 7.32s, train acc=0.93, train loss=0.24, test acc=0.93, test loss=0.24\n",
            "Epoch 5: 9.13s, train acc=0.93, train loss=0.23, test acc=0.93, test loss=0.23\n",
            "Epoch 6: 10.93s, train acc=0.93, train loss=0.23, test acc=0.93, test loss=0.23\n",
            "Epoch 7: 12.70s, train acc=0.94, train loss=0.22, test acc=0.93, test loss=0.23\n",
            "Epoch 8: 14.51s, train acc=0.94, train loss=0.21, test acc=0.94, test loss=0.22\n",
            "Epoch 9: 16.27s, train acc=0.94, train loss=0.22, test acc=0.93, test loss=0.23\n",
            "Epoch 10: 18.58s, train acc=0.94, train loss=0.22, test acc=0.93, test loss=0.23\n"
          ]
        }
      ]
    },
    {
      "cell_type": "markdown",
      "source": [
        "### NOT: \n",
        "\n",
        "**`Relu + RmsProp` learning rate 0.5 için denendiğinde eğitim sağlıklı gerçekleşmemiştir. Learning rate küçültülerek 0.001 için optimal bir eğitim gerçekleşebildiği gözlemlenmiştir.**"
      ],
      "metadata": {
        "id": "-fpQF2eS9ajB"
      }
    },
    {
      "cell_type": "markdown",
      "source": [
        "## **4- ADAM Optimizasyon Algoritması**\n",
        "\n",
        "> **Relu fonksiyonu'nun eğitim süresinin sigmoid'e nazaran daha kısa olduğu, yani relu'nun daha hızlı çalıştığı gözlemlenmiştir.**\n",
        "\n",
        "> **Ayrıca Sigmoid aktivasyon fonksiyonu relu'ya göre train ve test accuracy'leri kıyaslandığında learning rate = 0.05 ve 10 epoch'luk bir eğitim için daha başarılı bir eğitim gerçekleştirmiştir.**\n",
        "\n",
        "**`10.Epoch için sonuç tablosu:`**\n",
        "---\n",
        "![image.png](data:image/png;base64,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)"
      ],
      "metadata": {
        "id": "QsFEmI1zD3Rq"
      }
    },
    {
      "cell_type": "code",
      "source": [
        "# Sigmoid + Adam\n",
        "dnn = DeepNeuralNetwork(sizes=[784, 64, 10], activation='sigmoid')\n",
        "dnn.train(x_train, y_train, x_test, y_test, batch_size=128, optimizer='adam', l_rate=0.05, beta=0.9, beta_2=0.999, epsilon=1e-8)"
      ],
      "metadata": {
        "colab": {
          "base_uri": "https://localhost:8080/"
        },
        "id": "NneVp2_e1fRE",
        "outputId": "cdd1d84f-aef9-4612-e246-3a3590c4b9d6"
      },
      "execution_count": null,
      "outputs": [
        {
          "output_type": "stream",
          "name": "stdout",
          "text": [
            "Epoch 1: 2.59s, train acc=0.90, train loss=0.44, test acc=0.90, test loss=0.43\n",
            "Epoch 2: 5.28s, train acc=0.91, train loss=0.34, test acc=0.92, test loss=0.33\n",
            "Epoch 3: 7.88s, train acc=0.92, train loss=0.30, test acc=0.92, test loss=0.29\n",
            "Epoch 4: 10.51s, train acc=0.93, train loss=0.27, test acc=0.93, test loss=0.27\n",
            "Epoch 5: 13.11s, train acc=0.93, train loss=0.25, test acc=0.93, test loss=0.25\n",
            "Epoch 6: 15.76s, train acc=0.93, train loss=0.24, test acc=0.93, test loss=0.24\n",
            "Epoch 7: 18.35s, train acc=0.94, train loss=0.22, test acc=0.94, test loss=0.23\n",
            "Epoch 8: 20.96s, train acc=0.94, train loss=0.21, test acc=0.94, test loss=0.22\n",
            "Epoch 9: 24.29s, train acc=0.94, train loss=0.20, test acc=0.94, test loss=0.21\n",
            "Epoch 10: 27.47s, train acc=0.95, train loss=0.19, test acc=0.94, test loss=0.20\n"
          ]
        }
      ]
    },
    {
      "cell_type": "code",
      "source": [
        "# Relu + Adam\n",
        "dnn = DeepNeuralNetwork(sizes=[784, 64, 10], activation='relu')\n",
        "dnn.train(x_train, y_train, x_test, y_test, batch_size=128, optimizer='adam', l_rate=0.05, beta=0.9, beta_2=0.999, epsilon=1e-8)"
      ],
      "metadata": {
        "colab": {
          "base_uri": "https://localhost:8080/"
        },
        "id": "CoZFtbljxpAE",
        "outputId": "4eff2855-6638-4c42-995e-a3b7e0693552"
      },
      "execution_count": null,
      "outputs": [
        {
          "output_type": "stream",
          "name": "stdout",
          "text": [
            "Epoch 1: 2.61s, train acc=0.91, train loss=0.31, test acc=0.92, test loss=0.30\n",
            "Epoch 2: 5.30s, train acc=0.92, train loss=0.28, test acc=0.92, test loss=0.27\n",
            "Epoch 3: 7.37s, train acc=0.92, train loss=0.26, test acc=0.93, test loss=0.26\n",
            "Epoch 4: 9.52s, train acc=0.93, train loss=0.25, test acc=0.93, test loss=0.25\n",
            "Epoch 5: 11.62s, train acc=0.93, train loss=0.24, test acc=0.93, test loss=0.24\n",
            "Epoch 6: 13.69s, train acc=0.93, train loss=0.24, test acc=0.93, test loss=0.24\n",
            "Epoch 7: 15.74s, train acc=0.93, train loss=0.23, test acc=0.93, test loss=0.24\n",
            "Epoch 8: 17.84s, train acc=0.93, train loss=0.23, test acc=0.93, test loss=0.23\n",
            "Epoch 9: 20.01s, train acc=0.93, train loss=0.23, test acc=0.93, test loss=0.23\n",
            "Epoch 10: 22.18s, train acc=0.94, train loss=0.22, test acc=0.93, test loss=0.23\n"
          ]
        }
      ]
    },
    {
      "cell_type": "code",
      "source": [
        "# Relu + Adam (l_Rate = 0.001)\n",
        "dnn = DeepNeuralNetwork(sizes=[784, 64, 10], activation='relu')\n",
        "dnn.train(x_train, y_train, x_test, y_test, batch_size=128, optimizer='adam', l_rate=0.001, beta=0.9, beta_2=0.999, epsilon=1e-8)"
      ],
      "metadata": {
        "colab": {
          "base_uri": "https://localhost:8080/"
        },
        "id": "43QpALiURINz",
        "outputId": "c5a2b6ef-9ce7-44d2-a54d-90dc871fcc19"
      },
      "execution_count": null,
      "outputs": [
        {
          "output_type": "stream",
          "name": "stdout",
          "text": [
            "Epoch 1: 2.58s, train acc=0.91, train loss=0.31, test acc=0.91, test loss=0.30\n",
            "Epoch 2: 4.64s, train acc=0.92, train loss=0.28, test acc=0.92, test loss=0.27\n",
            "Epoch 3: 6.71s, train acc=0.92, train loss=0.26, test acc=0.93, test loss=0.26\n",
            "Epoch 4: 8.81s, train acc=0.93, train loss=0.25, test acc=0.93, test loss=0.25\n",
            "Epoch 5: 10.86s, train acc=0.93, train loss=0.24, test acc=0.93, test loss=0.25\n",
            "Epoch 6: 12.88s, train acc=0.93, train loss=0.24, test acc=0.93, test loss=0.24\n",
            "Epoch 7: 14.92s, train acc=0.93, train loss=0.23, test acc=0.93, test loss=0.24\n",
            "Epoch 8: 17.00s, train acc=0.93, train loss=0.23, test acc=0.93, test loss=0.24\n",
            "Epoch 9: 19.11s, train acc=0.94, train loss=0.22, test acc=0.93, test loss=0.23\n",
            "Epoch 10: 21.17s, train acc=0.94, train loss=0.22, test acc=0.93, test loss=0.23\n"
          ]
        }
      ]
    },
    {
      "cell_type": "code",
      "source": [
        "# Sigmoid + Adam (l_Rate = 0.001)\n",
        "dnn = DeepNeuralNetwork(sizes=[784, 64, 10], activation='sigmoid')\n",
        "dnn.train(x_train, y_train, x_test, y_test, batch_size=128, optimizer='adam', l_rate=0.001, beta=0.9, beta_2=0.999, epsilon=1e-8)"
      ],
      "metadata": {
        "colab": {
          "base_uri": "https://localhost:8080/"
        },
        "id": "1FZvl2V1QWm1",
        "outputId": "d2ef024e-8325-42c5-8b29-74ad4db2179d"
      },
      "execution_count": null,
      "outputs": [
        {
          "output_type": "stream",
          "name": "stdout",
          "text": [
            "Epoch 1: 2.63s, train acc=0.90, train loss=0.44, test acc=0.90, test loss=0.43\n",
            "Epoch 2: 5.23s, train acc=0.91, train loss=0.34, test acc=0.92, test loss=0.33\n",
            "Epoch 3: 7.72s, train acc=0.92, train loss=0.30, test acc=0.92, test loss=0.29\n",
            "Epoch 4: 10.59s, train acc=0.92, train loss=0.27, test acc=0.92, test loss=0.27\n",
            "Epoch 5: 13.16s, train acc=0.93, train loss=0.25, test acc=0.93, test loss=0.25\n",
            "Epoch 6: 16.86s, train acc=0.93, train loss=0.24, test acc=0.93, test loss=0.24\n",
            "Epoch 7: 20.55s, train acc=0.94, train loss=0.22, test acc=0.93, test loss=0.23\n",
            "Epoch 8: 23.07s, train acc=0.94, train loss=0.21, test acc=0.94, test loss=0.21\n",
            "Epoch 9: 25.60s, train acc=0.94, train loss=0.20, test acc=0.94, test loss=0.21\n",
            "Epoch 10: 28.24s, train acc=0.95, train loss=0.19, test acc=0.94, test loss=0.20\n"
          ]
        }
      ]
    },
    {
      "cell_type": "markdown",
      "source": [
        "**Kod kaynak:** https://github.com/lionelmessi6410/Neural-Networks-from-Scratch/blob/main/NN-from-Scratch.ipynb"
      ],
      "metadata": {
        "id": "BqJhbb_iLCUi"
      }
    },
    {
      "cell_type": "markdown",
      "source": [
        "# **OPTIMIZASYON YONTEMLERININ KIYASLANMASI**"
      ],
      "metadata": {
        "id": "wCKlsz9LEgUt"
      }
    },
    {
      "cell_type": "markdown",
      "source": [
        "## **1- Sigmoid ile 4 Yöntemin Kıyaslanması**\n",
        "\n",
        "![image.png](data:image/png;base64,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)\n",
        "\n",
        "> **Test Accuracy için Sigmoid ile en hızlı yöntem Stokastik Gradient Descent algoritması iken, accuracy olarak doğruluğu en yüksek algoritma RMSProp olarak gözlemlenmiştir.**"
      ],
      "metadata": {
        "id": "iEhRAWclK2Wr"
      }
    },
    {
      "cell_type": "markdown",
      "source": [
        "## **2- Relu ile 4 Yöntemin Kıyaslanması**\n",
        "\n",
        "![image.png](data:image/png;base64,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)\n",
        "\n",
        "> **Test Accuracy için Sigmoid ile en hızlı yöntem Stokastik Gradient Descent algoritması iken, accuracy olarak doğruluğu en yüksek algoritma RMSProp ile Adam eşit olarak gözlemlenmiştir. Fakat ikisi arasında hız farkına bakıldığında RMSProp'un daha hızlı olduğu ve tercih sebebi olabileceği gözlemlenmiştir.**"
      ],
      "metadata": {
        "id": "Z8_vF1ajK7fU"
      }
    },
    {
      "cell_type": "markdown",
      "source": [
        "# **SONUÇ**\n",
        "\n",
        "> ***En yüksek accuracy sigmoid ile çalışan RMSProp algoritması ile elde edilmiştir.***"
      ],
      "metadata": {
        "id": "Pdg5lcreYkgb"
      }
    }
  ]
}